{
 "cells": [
  {
   "cell_type": "code",
   "execution_count": 72,
   "metadata": {
    "collapsed": true
   },
   "outputs": [],
   "source": [
    "import pandas as pd\n",
    "import matplotlib.pyplot as plt\n"
   ]
  },
  {
   "cell_type": "markdown",
   "metadata": {},
   "source": [
    "## Data Exploration"
   ]
  },
  {
   "cell_type": "code",
   "execution_count": 2,
   "metadata": {},
   "outputs": [
    {
     "data": {
      "text/html": [
       "<div>\n",
       "<style scoped>\n",
       "    .dataframe tbody tr th:only-of-type {\n",
       "        vertical-align: middle;\n",
       "    }\n",
       "\n",
       "    .dataframe tbody tr th {\n",
       "        vertical-align: top;\n",
       "    }\n",
       "\n",
       "    .dataframe thead th {\n",
       "        text-align: right;\n",
       "    }\n",
       "</style>\n",
       "<table border=\"1\" class=\"dataframe\">\n",
       "  <thead>\n",
       "    <tr style=\"text-align: right;\">\n",
       "      <th></th>\n",
       "      <th>Title</th>\n",
       "      <th>Genre</th>\n",
       "      <th>Plot</th>\n",
       "    </tr>\n",
       "  </thead>\n",
       "  <tbody>\n",
       "    <tr>\n",
       "      <th>0</th>\n",
       "      <td>Kansas Saloon Smashers</td>\n",
       "      <td>NaN</td>\n",
       "      <td>A bartender is working at a saloon, serving dr...</td>\n",
       "    </tr>\n",
       "    <tr>\n",
       "      <th>1</th>\n",
       "      <td>Love by the Light of the Moon</td>\n",
       "      <td>NaN</td>\n",
       "      <td>The moon, painted with a smiling face hangs ov...</td>\n",
       "    </tr>\n",
       "    <tr>\n",
       "      <th>2</th>\n",
       "      <td>The Martyred Presidents</td>\n",
       "      <td>NaN</td>\n",
       "      <td>The film, just over a minute long, is composed...</td>\n",
       "    </tr>\n",
       "    <tr>\n",
       "      <th>3</th>\n",
       "      <td>Terrible Teddy, the Grizzly King</td>\n",
       "      <td>NaN</td>\n",
       "      <td>Lasting just 61 seconds and consisting of two ...</td>\n",
       "    </tr>\n",
       "    <tr>\n",
       "      <th>4</th>\n",
       "      <td>Jack and the Beanstalk</td>\n",
       "      <td>NaN</td>\n",
       "      <td>The earliest known adaptation of the classic f...</td>\n",
       "    </tr>\n",
       "  </tbody>\n",
       "</table>\n",
       "</div>"
      ],
      "text/plain": [
       "<div>\n",
       "<style scoped>\n",
       "    .dataframe tbody tr th:only-of-type {\n",
       "        vertical-align: middle;\n",
       "    }\n",
       "\n",
       "    .dataframe tbody tr th {\n",
       "        vertical-align: top;\n",
       "    }\n",
       "\n",
       "    .dataframe thead th {\n",
       "        text-align: right;\n",
       "    }\n",
       "</style>\n",
       "<table border=\"1\" class=\"dataframe\">\n",
       "  <thead>\n",
       "    <tr style=\"text-align: right;\">\n",
       "      <th></th>\n",
       "      <th>Title</th>\n",
       "      <th>Genre</th>\n",
       "      <th>Plot</th>\n",
       "    </tr>\n",
       "  </thead>\n",
       "  <tbody>\n",
       "    <tr>\n",
       "      <th>0</th>\n",
       "      <td>Kansas Saloon Smashers</td>\n",
       "      <td>NaN</td>\n",
       "      <td>A bartender is working at a saloon, serving dr...</td>\n",
       "    </tr>\n",
       "    <tr>\n",
       "      <th>1</th>\n",
       "      <td>Love by the Light of the Moon</td>\n",
       "      <td>NaN</td>\n",
       "      <td>The moon, painted with a smiling face hangs ov...</td>\n",
       "    </tr>\n",
       "    <tr>\n",
       "      <th>2</th>\n",
       "      <td>The Martyred Presidents</td>\n",
       "      <td>NaN</td>\n",
       "      <td>The film, just over a minute long, is composed...</td>\n",
       "    </tr>\n",
       "    <tr>\n",
       "      <th>3</th>\n",
       "      <td>Terrible Teddy, the Grizzly King</td>\n",
       "      <td>NaN</td>\n",
       "      <td>Lasting just 61 seconds and consisting of two ...</td>\n",
       "    </tr>\n",
       "    <tr>\n",
       "      <th>4</th>\n",
       "      <td>Jack and the Beanstalk</td>\n",
       "      <td>NaN</td>\n",
       "      <td>The earliest known adaptation of the classic f...</td>\n",
       "    </tr>\n",
       "  </tbody>\n",
       "</table>\n",
       "</div>"
      ]
     },
     "execution_count": 2,
     "metadata": {},
     "output_type": "execute_result"
    }
   ],
   "source": [
    "# Read training data from csv\n",
    "df = pd.read_csv('datasets/train_wiki.csv', usecols=['Genre', 'Plot'], na_values='unknown')\n",
    "df.head()"
   ]
  },
  {
   "cell_type": "code",
   "execution_count": 57,
   "metadata": {},
   "outputs": [
    {
     "data": {
      "text/html": [
       "<div>\n",
       "<style scoped>\n",
       "    .dataframe tbody tr th:only-of-type {\n",
       "        vertical-align: middle;\n",
       "    }\n",
       "\n",
       "    .dataframe tbody tr th {\n",
       "        vertical-align: top;\n",
       "    }\n",
       "\n",
       "    .dataframe thead th {\n",
       "        text-align: right;\n",
       "    }\n",
       "</style>\n",
       "<table border=\"1\" class=\"dataframe\">\n",
       "  <thead>\n",
       "    <tr style=\"text-align: right;\">\n",
       "      <th></th>\n",
       "      <th>Title</th>\n",
       "      <th>Genre</th>\n",
       "      <th>Plot</th>\n",
       "      <th>genre_id</th>\n",
       "    </tr>\n",
       "  </thead>\n",
       "  <tbody>\n",
       "    <tr>\n",
       "      <th>6</th>\n",
       "      <td>The Suburbanite</td>\n",
       "      <td>comedy</td>\n",
       "      <td>The film is about a family who move to the sub...</td>\n",
       "      <td>0</td>\n",
       "    </tr>\n",
       "    <tr>\n",
       "      <th>9</th>\n",
       "      <td>Dream of a Rarebit Fiend</td>\n",
       "      <td>short</td>\n",
       "      <td>The Rarebit Fiend gorges on Welsh rarebit at a...</td>\n",
       "      <td>1</td>\n",
       "    </tr>\n",
       "    <tr>\n",
       "      <th>10</th>\n",
       "      <td>From Leadville to Aspen: A Hold-Up in the Rockies</td>\n",
       "      <td>short action</td>\n",
       "      <td>The film features a train traveling through th...</td>\n",
       "      <td>2</td>\n",
       "    </tr>\n",
       "    <tr>\n",
       "      <th>11</th>\n",
       "      <td>Kathleen Mavourneen</td>\n",
       "      <td>short film</td>\n",
       "      <td>Irish villager Kathleen is a tenant of Captain...</td>\n",
       "      <td>3</td>\n",
       "    </tr>\n",
       "    <tr>\n",
       "      <th>12</th>\n",
       "      <td>Daniel Boone</td>\n",
       "      <td>biographical</td>\n",
       "      <td>Boone's daughter befriends an Indian maiden as...</td>\n",
       "      <td>4</td>\n",
       "    </tr>\n",
       "  </tbody>\n",
       "</table>\n",
       "</div>"
      ],
      "text/plain": [
       "<div>\n",
       "<style scoped>\n",
       "    .dataframe tbody tr th:only-of-type {\n",
       "        vertical-align: middle;\n",
       "    }\n",
       "\n",
       "    .dataframe tbody tr th {\n",
       "        vertical-align: top;\n",
       "    }\n",
       "\n",
       "    .dataframe thead th {\n",
       "        text-align: right;\n",
       "    }\n",
       "</style>\n",
       "<table border=\"1\" class=\"dataframe\">\n",
       "  <thead>\n",
       "    <tr style=\"text-align: right;\">\n",
       "      <th></th>\n",
       "      <th>Title</th>\n",
       "      <th>Genre</th>\n",
       "      <th>Plot</th>\n",
       "      <th>genre_id</th>\n",
       "    </tr>\n",
       "  </thead>\n",
       "  <tbody>\n",
       "    <tr>\n",
       "      <th>6</th>\n",
       "      <td>The Suburbanite</td>\n",
       "      <td>comedy</td>\n",
       "      <td>The film is about a family who move to the sub...</td>\n",
       "      <td>0</td>\n",
       "    </tr>\n",
       "    <tr>\n",
       "      <th>9</th>\n",
       "      <td>Dream of a Rarebit Fiend</td>\n",
       "      <td>short</td>\n",
       "      <td>The Rarebit Fiend gorges on Welsh rarebit at a...</td>\n",
       "      <td>1</td>\n",
       "    </tr>\n",
       "    <tr>\n",
       "      <th>10</th>\n",
       "      <td>From Leadville to Aspen: A Hold-Up in the Rockies</td>\n",
       "      <td>short action</td>\n",
       "      <td>The film features a train traveling through th...</td>\n",
       "      <td>2</td>\n",
       "    </tr>\n",
       "    <tr>\n",
       "      <th>11</th>\n",
       "      <td>Kathleen Mavourneen</td>\n",
       "      <td>short film</td>\n",
       "      <td>Irish villager Kathleen is a tenant of Captain...</td>\n",
       "      <td>3</td>\n",
       "    </tr>\n",
       "    <tr>\n",
       "      <th>12</th>\n",
       "      <td>Daniel Boone</td>\n",
       "      <td>biographical</td>\n",
       "      <td>Boone's daughter befriends an Indian maiden as...</td>\n",
       "      <td>4</td>\n",
       "    </tr>\n",
       "  </tbody>\n",
       "</table>\n",
       "</div>"
      ]
     },
     "execution_count": 57,
     "metadata": {},
     "output_type": "execute_result"
    }
   ],
   "source": [
    "# Strip whitespace, remove extraneous genres if more than one per row\n",
    "def clean_genre(s):\n",
    "    delims = ('/', ',', '(', '[')\n",
    "    for delim in delims:\n",
    "        idx = s.find(delim)\n",
    "        if not idx == -1:\n",
    "            s = s[:idx]\n",
    "    return s.strip()\n",
    "\n",
    "# Remove rows with no genre\n",
    "df = df[pd.notnull(df['Genre'])]\n",
    "# Clean Genre column\n",
    "df['Genre'] = df['Genre'].map(clean_genre)\n",
    "# Remove rows where genre is less than 2 letters\n",
    "df = df[df['Genre'].map(lambda x: len(x) > 1)]\n",
    "# Generate column of genre_ids\n",
    "df['genre_id'] = df['Genre'].factorize()[0]\n",
    "# DF to keep track of genre and respective id\n",
    "genre_id_df = df[['Genre', 'genre_id']].drop_duplicates().sort_values('genre_id')\n",
    "# dicts for quick genre id lookup\n",
    "genre_to_id = dict(genre_id_df.values)\n",
    "id_to_category = dict(genre_id_df[['genre_id', 'Genre']].values)\n",
    "\n",
    "df.head()\n"
   ]
  },
  {
   "cell_type": "markdown",
   "metadata": {},
   "source": [
    "## Imbalanced Classes\n",
    "The number of movies per genre is imbalanced, with a few genres containing most of the movies. Because we want our classifier to give high prediction accuracy over the majority class while maintaining reasonable accuracy for the minority classes, we will leave it as is."
   ]
  },
  {
   "cell_type": "code",
   "execution_count": 89,
   "metadata": {},
   "outputs": [
    {
     "name": "stdout",
     "output_type": "stream",
     "text": [
      "94.58% (751) of 794 genres have 50 or fewer movies\nThe most popular genre, drama, has 6160 movies\n"
     ]
    },
    {
     "data": {
      "text/plain": [
       "'historical fantasy'"
      ]
     },
     "execution_count": 89,
     "metadata": {},
     "output_type": "execute_result"
    }
   ],
   "source": [
    "# Q: How is the distribution of movie genres?\n",
    "genre_counts = df.groupby('Genre').Plot.count()\n",
    "plt.hist(genre_counts)\n",
    "plt.title('Movie genre distribution')\n",
    "plt.ylabel('Frequency')\n",
    "plt.xlabel('Number of movies per genre')\n",
    "plt.show()\n",
    "# A: Most genres have very few movies\n",
    "\n",
    "min_movies = 50\n",
    "unpop_genres = (df.groupby('Genre').Plot.count() <= min_movies).sum()\n",
    "num_genres = len(genre_id_df)\n",
    "print(\"{:.2%} ({}) of {} genres have {} or fewer movies\".format(unpop_genres/num_genres, unpop_genres\n",
    "                                                              , num_genres, min_movies))\n",
    "genre_popularity = df.groupby('Genre').Plot.count().sort_values(ascending=False)\n",
    "print(\"The most popular genre, {}, has {} movies\".format(genre_popularity.index[0], genre_popularity[0]))\n"
   ]
  },
  {
   "cell_type": "code",
   "execution_count": 121,
   "metadata": {},
   "outputs": [
    {
     "name": "stdout",
     "output_type": "stream",
     "text": [
      "DF size before filter: 59256\nDF size after filter: 59256\n"
     ]
    }
   ],
   "source": [
    "# Top 50 genres\n",
    "popular_genres = set()\n",
    "for i in range(5):\n",
    "    popular_genres.add(genre_popularity.index[i])\n",
    "# Remove entries that do not fall in the 50 top genres\n",
    "print(\"DF size before filter: {}\".format(df.size))\n",
    "df = df[df['Genre'].map(lambda x: x in popular_genres)]\n",
    "print(\"DF size after filter: {}\".format(df.size))\n",
    "#print(popular_genres)\n",
    "\n",
    "# ReGenerate column of genre_ids\n",
    "df['genre_id'] = df['Genre'].factorize()[0]\n",
    "# DF to keep track of genre and respective id\n",
    "genre_id_df = df[['Genre', 'genre_id']].drop_duplicates().sort_values('genre_id')\n",
    "# dicts for quick genre id lookup\n",
    "genre_to_id = dict(genre_id_df.values)\n",
    "id_to_category = dict(genre_id_df[['genre_id', 'Genre']].values)\n",
    "\n"
   ]
  },
  {
   "cell_type": "markdown",
   "metadata": {},
   "source": [
    "## Text Representation\n",
    "\n",
    "Convert plot text into vectors with fixed size using bag of words model. Order of words is not preserved.\n",
    "\n",
    "Calculate tf-idf for each plot description.\n",
    "\n",
    "* `sublindear_tf` is set to `True` to use a logarithmic form for frequency\n",
    "* `min_df` is the minimum number of documents a word must be present in to be kept\n",
    "* `norm` is set to `l2` to ensure all our feature vectors have a euclidian norm of 1\n",
    "* `ngram_range` is set to `(1, 2)` to indicate that we want to consider both unigrams and bigrams\n",
    "* `stop_words` is set to `'english'` to remove all common pronouns to reduce the number of noisy features"
   ]
  },
  {
   "cell_type": "code",
   "execution_count": 122,
   "metadata": {},
   "outputs": [
    {
     "name": "stdout",
     "output_type": "stream",
     "text": [
      "CPU times: user 19.5 s, sys: 2.61 s, total: 22.1 s\nWall time: 22.2 s\n"
     ]
    }
   ],
   "source": [
    "%%time\n",
    "from sklearn.feature_extraction.text import TfidfVectorizer\n",
    "tfidf = TfidfVectorizer(sublinear_tf=True, min_df=5, norm='l2', ngram_range=(1, 2), stop_words='english')\n",
    "\n",
    "features = tfidf.fit_transform(df.Plot).toarray()\n",
    "labels = df.genre_id\n",
    "features.shape"
   ]
  },
  {
   "cell_type": "markdown",
   "metadata": {},
   "source": [
    "Now, each of 25912 plot descriptions is represented by 119365 features, representing the tf-idf score for different unigrams and bigrams.\n",
    "\n",
    "Use `sklearn.feature_selection.chi2` to find the terms that are the most correlated with each of the genres."
   ]
  },
  {
   "cell_type": "code",
   "execution_count": 123,
   "metadata": {},
   "outputs": [
    {
     "name": "stdout",
     "output_type": "stream",
     "text": [
      "# 'action':\n  . Most correlated unigrams:\n. kills\n. kill\n  . Most correlated bigrams:\n. prakash raj\n. police officer\n"
     ]
    },
    {
     "name": "stdout",
     "output_type": "stream",
     "text": [
      "# 'comedy':\n  . Most correlated unigrams:\n. death\n. killed\n  . Most correlated bigrams:\n. jerry lewis\n. mother riley\n"
     ]
    },
    {
     "name": "stdout",
     "output_type": "stream",
     "text": [
      "# 'drama':\n  . Most correlated unigrams:\n. vampire\n. war\n  . Most correlated bigrams:\n. year old\n. world war\n"
     ]
    },
    {
     "name": "stdout",
     "output_type": "stream",
     "text": [
      "# 'horror':\n  . Most correlated unigrams:\n. vampire\n. creature\n  . Most correlated bigrams:\n. mrs bud\n. van helsing\n"
     ]
    },
    {
     "name": "stdout",
     "output_type": "stream",
     "text": [
      "# 'romance':\n  . Most correlated unigrams:\n. rahul\n. love\n  . Most correlated bigrams:\n. fall love\n. love story\n"
     ]
    }
   ],
   "source": [
    "from sklearn.feature_selection import chi2\n",
    "import numpy as np\n",
    "\n",
    "N = 2\n",
    "for Genre, genre_id in sorted(genre_to_id.items()):\n",
    "    features_chi2 = chi2(features, labels == genre_id)\n",
    "    indices = np.argsort(features_chi2[0])\n",
    "    feature_names = np.array(tfidf.get_feature_names())[indices]\n",
    "    unigrams = [v for v in feature_names if len(v.split(' ')) == 1]\n",
    "    bigrams = [v for v in feature_names if len(v.split(' ')) == 2]\n",
    "    print(\"# '{}':\".format(Genre))\n",
    "    print(\"  . Most correlated unigrams:\\n. {}\".format('\\n. '.join(unigrams[-N:])))\n",
    "    print(\"  . Most correlated bigrams:\\n. {}\".format('\\n. '.join(bigrams[-N:])))\n"
   ]
  },
  {
   "cell_type": "markdown",
   "metadata": {},
   "source": [
    "# Multi-Class Classifer: Features and Designs\n",
    "\n",
    "Now that we have a vector representation of the plot descriptions we can train supervised classifiers to train unseen plot descriptions and precit the genre on which they fall.\n",
    "\n",
    "**Naive Bayes Classifier**: the classifier most suitable for word counts is the multinomial variant"
   ]
  },
  {
   "cell_type": "code",
   "execution_count": null,
   "metadata": {},
   "outputs": [],
   "source": []
  }
 ],
 "metadata": {
  "kernelspec": {
   "display_name": "Python 2",
   "language": "python",
   "name": "python2"
  },
  "language_info": {
   "codemirror_mode": {
    "name": "ipython",
    "version": 2
   },
   "file_extension": ".py",
   "mimetype": "text/x-python",
   "name": "python",
   "nbconvert_exporter": "python",
   "pygments_lexer": "ipython2",
   "version": "2.7.6"
  }
 },
 "nbformat": 4,
 "nbformat_minor": 0
}
